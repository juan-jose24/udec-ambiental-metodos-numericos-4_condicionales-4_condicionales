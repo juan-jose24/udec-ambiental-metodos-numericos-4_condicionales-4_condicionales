{
 "cells": [
  {
   "cell_type": "markdown",
   "metadata": {},
   "source": [
    "# 🧩 Reto 2 – pH\n",
    "**Objetivo:** clasificar pH y generar alerta química.\n",
    "\n",
    "**Datos:** `../data/muestras_calidad_agua.csv`"
   ]
  },
  {
   "cell_type": "markdown",
   "metadata": {},
   "source": [
    "### Pasos\n",
    "1. Carga el CSV en `df`.\n",
    "2. Extrae `sitio` y `pH`.\n",
    "3. Crea `clasificacion_pH` con tres rangos.\n",
    "4. Crea `alerta_quimica` (revisión si pH < 6.5 o pH > 8.5).\n",
    "5. Filtra `df_alerta` y exporta `resultado_ph.csv`.\n",
    "\n",
    "> **Reto adicional:** promedio y desviación estándar."
   ]
  },
  {
   "cell_type": "code",
   "execution_count": 1,
   "id": "091e4c68",
   "metadata": {},
   "outputs": [
    {
     "name": "stdout",
     "output_type": "stream",
     "text": [
      "                           sitio   pH  oxigeno  temperatura\n",
      "0                 Río Subachoque  7.2      7.8         18.5\n",
      "1    Quebrada Honda (Facatativá)  6.3      6.2         19.4\n",
      "2           Río Botello (Madrid)  6.8      5.9         22.7\n",
      "3   Afluente San José (El Rosal)  7.9      8.3         20.1\n",
      "4                    Río Villeta  8.7      6.1         28.3\n",
      "5  Quebrada Cune (San Francisco)  6.0      4.5         25.2\n",
      "6            Río Tobia (Nocaima)  7.4      5.2         26.9\n",
      "7       Quebrada Negra (La Vega)  7.6      7.0         24.4\n",
      "8          Río Bahamón (Sasaima)  8.1      6.7         27.6\n",
      "9        Río Guayuriba (La Mesa)  5.9      4.8         30.5\n"
     ]
    }
   ],
   "source": [
    "import pandas as pd\n",
    "\n",
    "# 1. Cargar el CSV en df\n",
    "df = pd.read_csv('muestras_calidad_agua.csv')  # ¡Funciona! Ya está el archivo\n",
    "\n",
    "print(df)"
   ]
  },
  {
   "cell_type": "code",
   "execution_count": null,
   "id": "ac8e2d04",
   "metadata": {},
   "outputs": [
    {
     "name": "stdout",
     "output_type": "stream",
     "text": [
      "                           sitio   pH\n",
      "0                 Río Subachoque  7.2\n",
      "1    Quebrada Honda (Facatativá)  6.3\n",
      "2           Río Botello (Madrid)  6.8\n",
      "3   Afluente San José (El Rosal)  7.9\n",
      "4                    Río Villeta  8.7\n",
      "5  Quebrada Cune (San Francisco)  6.0\n",
      "6            Río Tobia (Nocaima)  7.4\n",
      "7       Quebrada Negra (La Vega)  7.6\n",
      "8          Río Bahamón (Sasaima)  8.1\n",
      "9        Río Guayuriba (La Mesa)  5.9\n"
     ]
    }
   ],
   "source": [
    "# 2. Extraer solo las columnas 'sitio' y 'pH'\n",
    "df_ph = df[['sitio', 'pH']]\n",
    "\n",
    "# Mostrar resultado\n",
    "print(df_ph)"
   ]
  },
  {
   "cell_type": "code",
   "execution_count": null,
   "id": "5482dd30",
   "metadata": {},
   "outputs": [
    {
     "name": "stdout",
     "output_type": "stream",
     "text": [
      "                           sitio   pH clasificacion_pH\n",
      "0                 Río Subachoque  7.2           Neutro\n",
      "1    Quebrada Honda (Facatativá)  6.3   Alerta_quimica\n",
      "2           Río Botello (Madrid)  6.8           Neutro\n",
      "3   Afluente San José (El Rosal)  7.9           Neutro\n",
      "4                    Río Villeta  8.7   Alerta_quimica\n",
      "5  Quebrada Cune (San Francisco)  6.0   Alerta_quimica\n",
      "6            Río Tobia (Nocaima)  7.4           Neutro\n",
      "7       Quebrada Negra (La Vega)  7.6           Neutro\n",
      "8          Río Bahamón (Sasaima)  8.1           Neutro\n",
      "9        Río Guayuriba (La Mesa)  5.9   Alerta_quimica\n"
     ]
    },
    {
     "name": "stderr",
     "output_type": "stream",
     "text": [
      "/tmp/ipykernel_14941/2468463090.py:11: SettingWithCopyWarning: \n",
      "A value is trying to be set on a copy of a slice from a DataFrame.\n",
      "Try using .loc[row_indexer,col_indexer] = value instead\n",
      "\n",
      "See the caveats in the documentation: https://pandas.pydata.org/pandas-docs/stable/user_guide/indexing.html#returning-a-view-versus-a-copy\n",
      "  df_ph['clasificacion_pH'] = df_ph['pH'].apply(clasificar_ph)\n"
     ]
    }
   ],
   "source": [
    "#clasificar ph si es Alerta_quimica o es neutro\n",
    "\n",
    "def clasificar_ph(ph):\n",
    "   \n",
    "    if ph < 6.5:\n",
    "        return 'Alerta_quimica'\n",
    "    elif ph <8.4:\n",
    "        return 'Neutro'\n",
    "    elif ph > 8.5:\n",
    "        return 'Alerta_quimica'\n",
    "   \n",
    "\n",
    "df_ph['clasificacion_pH'] = df_ph['pH'].apply(clasificar_ph)\n",
    "\n",
    "print(df_ph)"
   ]
  },
  {
   "cell_type": "code",
   "execution_count": null,
   "id": "0398d4bc",
   "metadata": {},
   "outputs": [
    {
     "name": "stdout",
     "output_type": "stream",
     "text": [
      "\n",
      "Promedio del pH: 7.19\n",
      "Desviación estándar del pH: 0.93\n"
     ]
    }
   ],
   "source": [
    "#reto adicional de promedio y desviacion estandar\n",
    "\n",
    "promedio = df['pH'].mean()\n",
    "desviacion = df['pH'].std()\n",
    "\n",
    "print(f\"\\nPromedio del pH: {promedio:.2f}\")\n",
    "print(f\"Desviación estándar del pH: {desviacion:.2f}\")"
   ]
  },
  {
   "cell_type": "code",
   "execution_count": null,
   "id": "e0b6677e",
   "metadata": {},
   "outputs": [
    {
     "name": "stdout",
     "output_type": "stream",
     "text": [
      "Exportado 'resultado_ph.xlsx' con 10 filas en 'Alerta'\n"
     ]
    }
   ],
   "source": [
    "\n",
    "df_ph.to_csv('resultado_ph.xlsx', index=False)\n",
    "print(f\"Exportado 'resultado_ph.xlsx' con {len(df_ph)} filas en 'Alerta'\")"
   ]
  }
 ],
 "metadata": {
  "kernelspec": {
   "display_name": "Python 3",
   "language": "python",
   "name": "python3"
  },
  "language_info": {
   "codemirror_mode": {
    "name": "ipython",
    "version": 3
   },
   "file_extension": ".py",
   "mimetype": "text/x-python",
   "name": "python",
   "nbconvert_exporter": "python",
   "pygments_lexer": "ipython3",
   "version": "3.12.1"
  }
 },
 "nbformat": 4,
 "nbformat_minor": 5
}
